{
 "cells": [
  {
   "cell_type": "code",
   "execution_count": null,
   "metadata": {},
   "outputs": [],
   "source": [
    "'''\n",
    "3.1\n",
    "(Validating User Input) Modify the script of Fig. 3.3 to validate its inputs. For any\n",
    "input, if the value entered is other than 1 or 2, keep looping until the user enters\n",
    "a correct value. Use one counter to keep track of the number of passes,\n",
    "then calculate the number of failures after all the user’s inputs have been received.\n",
    "'''"
   ]
  },
  {
   "cell_type": "code",
   "execution_count": 34,
   "metadata": {},
   "outputs": [
    {
     "name": "stdout",
     "output_type": "stream",
     "text": [
      "Enter result (1=pass, 2=fail): 1\n",
      "Enter result (1=pass, 2=fail): 1\n",
      "Enter result (1=pass, 2=fail): 1\n",
      "Enter result (1=pass, 2=fail): 1\n",
      "Enter result (1=pass, 2=fail): 1\n",
      "Enter result (1=pass, 2=fail): 2\n",
      "Enter result (1=pass, 2=fail): 2\n",
      "Enter result (1=pass, 2=fail): 2\n",
      "Enter result (1=pass, 2=fail): 2\n",
      "Enter result (1=pass, 2=fail): 2\n",
      "Passes: 5, failures: 0\n"
     ]
    }
   ],
   "source": [
    "# fig03_03.py\n",
    "\n",
    "\"\"\"Using nested control statements to analyze examination results.\"\"\"\n",
    "# initialize variables\n",
    "passes = 0 # number of passes\n",
    "failures = 0 # number of failures\n",
    "# process 10 students\n",
    "for student in range(10):\n",
    "    # get one exam result\n",
    "    result = int(input('Enter result (1=pass, 2=fail): '))\n",
    "    if result == 1:\n",
    "        passes = passes + 1\n",
    "    elif result == 0:\n",
    "        failures = failures + 1\n",
    "    else:\n",
    "        continue\n",
    "print(f'Passes: {passes}, failures: {failures}')"
   ]
  },
  {
   "cell_type": "code",
   "execution_count": null,
   "metadata": {},
   "outputs": [],
   "source": [
    "'''\n",
    "3.2\n",
    "(What’s Wrong with This Code?) What is wrong with the following code?\n",
    "a = b = 7\n",
    "print('a =', a, '\\nb =', b)\n",
    "First, answer the question, then check your work in an IPython session.\n",
    "'''"
   ]
  },
  {
   "cell_type": "code",
   "execution_count": 35,
   "metadata": {},
   "outputs": [
    {
     "name": "stdout",
     "output_type": "stream",
     "text": [
      "a = 7 \n",
      "b = 7\n"
     ]
    }
   ],
   "source": [
    "a = b = 7\n",
    "print('a =', a, '\\nb =', b)"
   ]
  },
  {
   "cell_type": "code",
   "execution_count": null,
   "metadata": {},
   "outputs": [],
   "source": [
    "'''\n",
    "3.3\n",
    "(What Does This Code Do?) What does the following program print?\n",
    "for row in range(10):\n",
    "    for column in range(10):\n",
    "        print('<' if row % 2 == 1 else '>', end='')\n",
    "    print()\n",
    "'''"
   ]
  },
  {
   "cell_type": "code",
   "execution_count": 36,
   "metadata": {},
   "outputs": [
    {
     "name": "stdout",
     "output_type": "stream",
     "text": [
      ">>>>>>>>>>\n",
      "<<<<<<<<<<\n",
      ">>>>>>>>>>\n",
      "<<<<<<<<<<\n",
      ">>>>>>>>>>\n",
      "<<<<<<<<<<\n",
      ">>>>>>>>>>\n",
      "<<<<<<<<<<\n",
      ">>>>>>>>>>\n",
      "<<<<<<<<<<\n"
     ]
    }
   ],
   "source": [
    "for row in range(10):\n",
    "    for column in range(10):\n",
    "        print('<' if row % 2 == 1 else '>', end='')\n",
    "    print()"
   ]
  },
  {
   "cell_type": "code",
   "execution_count": null,
   "metadata": {},
   "outputs": [],
   "source": [
    "'''\n",
    "3.4\n",
    "(Fill in the Missing Code) In the code below\n",
    "for ***:\n",
    "    for ***:\n",
    "        print('@')\n",
    "    print()\n",
    "replace the *** so that when you execute the code, it displays two rows, each containing\n",
    "seven @ symbols, as in:\n",
    "@@@@@@@\n",
    "@@@@@@@\n",
    "'''"
   ]
  },
  {
   "cell_type": "code",
   "execution_count": 39,
   "metadata": {},
   "outputs": [
    {
     "name": "stdout",
     "output_type": "stream",
     "text": [
      "@@@@@@@\n",
      "@@@@@@@\n"
     ]
    }
   ],
   "source": [
    "for i in range(2):\n",
    "    for j in range(7):\n",
    "        print('@', end='')\n",
    "    print()"
   ]
  },
  {
   "cell_type": "code",
   "execution_count": null,
   "metadata": {},
   "outputs": [],
   "source": [
    "'''\n",
    "3.5\n",
    "(if…else Statements) Reimplement the script of Fig. 2.1 using three if…else\n",
    "statements rather than six if statements. [Hint: For example, think of == and != as “op-\n",
    "posite” tests.]\n",
    "'''"
   ]
  },
  {
   "cell_type": "code",
   "execution_count": 40,
   "metadata": {},
   "outputs": [
    {
     "name": "stdout",
     "output_type": "stream",
     "text": [
      "Enter two integers, and I will tell you the relationships they satisfy.\n",
      "Enter first integer: 1\n",
      "Enter second integer: 4\n",
      "1 is not equal to 4\n",
      "1 is less than 4\n",
      "1 is less than or equal to 4\n"
     ]
    }
   ],
   "source": [
    "# fig02_01.py\n",
    "\"\"\"Comparing integers using if statements and comparison operators.\"\"\"\n",
    "print('Enter two integers, and I will tell you', 'the relationships they satisfy.')\n",
    "# read first integer\n",
    "number1 = int(input('Enter first integer: '))\n",
    "# read second integer\n",
    "number2 = int(input('Enter second integer: '))\n",
    "\n",
    "if number1 == number2:\n",
    "    print(number1, 'is equal to', number2)\n",
    "else:\n",
    "    print(number1, 'is not equal to', number2)\n",
    "    \n",
    "if number1 < number2:\n",
    "    print(number1, 'is less than', number2)\n",
    "else:\n",
    "    print(number1, 'is greater than', number2)\n",
    "\n",
    "if number1 <= number2:\n",
    "    print(number1, 'is less than or equal to', number2)\n",
    "else:\n",
    "    print(number1, 'is greater than or equal to', number2)"
   ]
  },
  {
   "cell_type": "code",
   "execution_count": null,
   "metadata": {},
   "outputs": [],
   "source": [
    "'''\n",
    "3.6\n",
    "(Turing Test) The great British mathematician Alan Turing proposed a simple test\n",
    "to determine whether machines could exhibit intelligent behavior. A user sits at a comput-\n",
    "er and does the same text chat with a human sitting at a computer and a computer oper-\n",
    "ating by itself. The user doesn’t know if the responses are coming back from the human\n",
    "or the independent computer. If the user can’t distinguish which responses are coming\n",
    "from the human and which are coming from the computer, then it’s reasonable to say that\n",
    "the computer is exhibiting intelligence.\n",
    "Create a script that plays the part of the independent computer, giving its user a sim-\n",
    "ple medical diagnosis. The script should prompt the user with 'What is your problem?'\n",
    "When the user answers and presses Enter, the script should simply ignore the user’s input,\n",
    "then prompt the user again with 'Have you had this problem before (yes or no)?' If\n",
    "the user enters 'yes', print 'Well, you have it again.' If the user answers 'no', print\n",
    "'Well, you have it now.'\n",
    "Would this conversation convince the user that the entity at the other end exhibited\n",
    "intelligent behavior? Why or why not?\n",
    "'''"
   ]
  },
  {
   "cell_type": "code",
   "execution_count": 41,
   "metadata": {},
   "outputs": [
    {
     "name": "stdout",
     "output_type": "stream",
     "text": [
      "What is your problem?qwe\n",
      "Have you had this problem before (yes or no)?no\n",
      "Well, you have it now.\n"
     ]
    }
   ],
   "source": [
    "problem = input('What is your problem?')\n",
    "next_prompt = input('Have you had this problem before (yes or no)?')\n",
    "if next_prompt == 'yes':\n",
    "    print('Well, you have it again.')\n",
    "elif next_prompt == 'no':\n",
    "    print('Well, you have it now.')"
   ]
  },
  {
   "cell_type": "code",
   "execution_count": null,
   "metadata": {},
   "outputs": [],
   "source": [
    "'''\n",
    "3.7\n",
    "(Table of Squares and Cubes) In Exercise 2.8, you wrote a script to calculate the\n",
    "squares and cubes of the numbers from 0 through 5, then printed the resulting values in\n",
    "table format. Reimplement your script using a for loop and the f-string capabilities you\n",
    "learned in this chapter to produce the following table with the numbers right aligned in\n",
    "each column.\n",
    "'''"
   ]
  },
  {
   "cell_type": "code",
   "execution_count": 59,
   "metadata": {},
   "outputs": [
    {
     "name": "stdout",
     "output_type": "stream",
     "text": [
      "Number    square      cube\n",
      "     0         0         0\n",
      "     1         1         1\n",
      "     2         4         8\n",
      "     3         9        27\n",
      "     4        16        64\n"
     ]
    }
   ],
   "source": [
    "print(f'{\"Number\"}{\"square\":>10}{\"cube\":>10}')\n",
    "for i in range(5):\n",
    "    print(f'{i:6}{i ** 2:>10}{i ** 3: >10}')"
   ]
  },
  {
   "cell_type": "code",
   "execution_count": null,
   "metadata": {},
   "outputs": [],
   "source": [
    "'''\n",
    "3.8\n",
    "(Arithmetic, Smallest and Largest) In Exercise 2.10, you wrote a script that input\n",
    "three integers, then displayed the sum, average, product, smallest and largest of\n",
    "those values. Reimplement your script with a loop that inputs four integers.\n",
    "'''"
   ]
  },
  {
   "cell_type": "code",
   "execution_count": 11,
   "metadata": {},
   "outputs": [
    {
     "name": "stdout",
     "output_type": "stream",
     "text": [
      "Enter number:4\n",
      "Enter number:5\n",
      "Enter number:2\n",
      "Enter number:7\n",
      "Sum: 18, average: 4.5, product: 280, min: 2, max: 7\n"
     ]
    }
   ],
   "source": [
    "import math\n",
    "values = []\n",
    "for i in range(4):\n",
    "    values.append(int(input('Enter number:')))\n",
    "\n",
    "print(f'Sum: {sum(values)}, average: {sum(values) / len(values)}, product: {math.prod(values)}, min: {min(values)}, max: {max(values)}')"
   ]
  },
  {
   "cell_type": "code",
   "execution_count": null,
   "metadata": {},
   "outputs": [],
   "source": [
    "'''\n",
    "3.9\n",
    "(Separating the Digits in an Integer) In Exercise 2.11, you wrote a script that sep-\n",
    "arated a five-digit integer into its individual digits and displayed them. Reimplement your\n",
    "script to use a loop that in each iteration “picks off” one digit (left to right) using the //\n",
    "and % operators, then displays that digit.\n",
    "'''"
   ]
  },
  {
   "cell_type": "code",
   "execution_count": 58,
   "metadata": {},
   "outputs": [
    {
     "name": "stdout",
     "output_type": "stream",
     "text": [
      "Enter number: 34545766798\n",
      "3 4 5 4 5 7 6 6 7 9 8 "
     ]
    }
   ],
   "source": [
    "n = int(input('Enter number: '))\n",
    "l = len(str(n))\n",
    "\n",
    "for i in range(l):\n",
    "    a = l - i - 1\n",
    "    if a == 0:\n",
    "        print(n % 10, end=' ')\n",
    "    else:\n",
    "        print(n // 10 ** a % 10, end=' ')"
   ]
  },
  {
   "cell_type": "code",
   "execution_count": null,
   "metadata": {},
   "outputs": [],
   "source": [
    "'''\n",
    "3.10\n",
    "(7% Investment Return) Reimplement Exercise 2.12 to use a loop that calculates\n",
    "and displays the amount of money you’ll have each year at the ends of years 1 through 30.\n",
    "'''"
   ]
  },
  {
   "cell_type": "code",
   "execution_count": 66,
   "metadata": {},
   "outputs": [
    {
     "name": "stdout",
     "output_type": "stream",
     "text": [
      "After 1 years:    1070.00\n",
      "After 2 years:    1144.90\n",
      "After 3 years:    1225.04\n",
      "After 4 years:    1310.80\n",
      "After 5 years:    1402.55\n",
      "After 6 years:    1500.73\n",
      "After 7 years:    1605.78\n",
      "After 8 years:    1718.19\n",
      "After 9 years:    1838.46\n",
      "After 10 years:    1967.15\n",
      "After 11 years:    2104.85\n",
      "After 12 years:    2252.19\n",
      "After 13 years:    2409.85\n",
      "After 14 years:    2578.53\n",
      "After 15 years:    2759.03\n",
      "After 16 years:    2952.16\n",
      "After 17 years:    3158.82\n",
      "After 18 years:    3379.93\n",
      "After 19 years:    3616.53\n",
      "After 20 years:    3869.68\n",
      "After 21 years:    4140.56\n",
      "After 22 years:    4430.40\n",
      "After 23 years:    4740.53\n",
      "After 24 years:    5072.37\n",
      "After 25 years:    5427.43\n",
      "After 26 years:    5807.35\n",
      "After 27 years:    6213.87\n",
      "After 28 years:    6648.84\n",
      "After 29 years:    7114.26\n",
      "After 30 years:    7612.26\n"
     ]
    }
   ],
   "source": [
    "p = 1000\n",
    "r = 0.07\n",
    "n = 10\n",
    "\n",
    "for i in range(1, 31):\n",
    "    print(f'After {i} years: {p * (1 + r) ** i:>10.2f}')"
   ]
  },
  {
   "cell_type": "code",
   "execution_count": null,
   "metadata": {},
   "outputs": [],
   "source": [
    "'''\n",
    "3.11\n",
    "(Miles Per Gallon) Drivers are concerned with the mileage obtained by their auto-\n",
    "mobiles. One driver has kept track of several tankfuls of gasoline by recording miles driven\n",
    "and gallons used for each tankful. Develop a sentinel-controlled-repetition script that\n",
    "prompts the user to input the miles driven and gallons used for each tankful. The script\n",
    "should calculate and display the miles per gallon obtained for each tankful. After process-\n",
    "ing all input information, the script should calculate and display the combined miles per\n",
    "gallon obtained for all tankfuls (that is, total miles driven divided by total gallons used).\n",
    "'''"
   ]
  },
  {
   "cell_type": "code",
   "execution_count": 76,
   "metadata": {},
   "outputs": [
    {
     "name": "stdout",
     "output_type": "stream",
     "text": [
      "Miles:2\n",
      "Galoons:54\n",
      "Miles per galoon: 0.037037037037037035\n",
      "Miles:5\n",
      "Galoons:45\n",
      "Miles per galoon: 0.1111111111111111\n",
      "Miles:-1\n",
      "Total miles: 7, total galoons: 99, average miles per galoon: 0.0707070707070707\n"
     ]
    }
   ],
   "source": [
    "miles = 0\n",
    "galoons = 0\n",
    "tanks = []\n",
    "while True:\n",
    "    miles = input('Miles:')\n",
    "    if miles == '-1':\n",
    "        break\n",
    "    galoons = input('Galoons:')\n",
    "    if galoons == '-1':\n",
    "        break\n",
    "    \n",
    "    print(f'Miles per galoon: {int(miles) / int(galoons)}')\n",
    "    \n",
    "    tanks.append([miles, galoons])\n",
    "\n",
    "sum_miles = 0\n",
    "sum_galoons = 0\n",
    "for t in tanks:\n",
    "    sum_miles += int(t[0])\n",
    "    sum_galoons += int(t[1])\n",
    "\n",
    "print(f'Total miles: {sum_miles}, total galoons: {sum_galoons}, average miles per galoon: {sum_miles / sum_galoons}')"
   ]
  },
  {
   "cell_type": "code",
   "execution_count": null,
   "metadata": {},
   "outputs": [],
   "source": [
    "'''\n",
    "3.12\n",
    "(Palindromes) A palindrome is a number, word or text phrase that reads the same\n",
    "backwards or forwards. For example, each of the following five-digit integers is a palin-\n",
    "drome: 12321, 55555, 45554 and 11611. Write a script that reads in a five-digit integer\n",
    "and determines whether it’s a palindrome. [Hint: Use the // and % operators to separate\n",
    "the number into its digits.]\n",
    "'''"
   ]
  },
  {
   "cell_type": "code",
   "execution_count": 5,
   "metadata": {},
   "outputs": [
    {
     "name": "stdout",
     "output_type": "stream",
     "text": [
      "Enter a 5-digit number:11211\n",
      "digit[i] = 1, digit[a] = 1\n",
      "digit[i] = 1, digit[a] = 1\n",
      "digit[i] = 2, digit[a] = 2\n",
      "Palindrome\n"
     ]
    }
   ],
   "source": [
    "digit = input('Enter a 5-digit number:')\n",
    "\n",
    "for i in range(5):\n",
    "    a = 5 - i - 1\n",
    "    \n",
    "    print(f'digit[i] = {digit[i]}, digit[a] = {digit[a]}')\n",
    "    if a == i:\n",
    "        print('Palindrome')\n",
    "        break\n",
    "    elif digit[i] != digit[a]:\n",
    "        print('Not a palindrome')\n",
    "        break\n"
   ]
  },
  {
   "cell_type": "code",
   "execution_count": null,
   "metadata": {},
   "outputs": [],
   "source": [
    "'''\n",
    "3.13\n",
    "(Factorials) Factorial calculations are common in probability. The factorial of a\n",
    "nonnegative integer n is written n! (pronounced “n factorial”) and is defined as follows:\n",
    "n! = n · (n - 1) · (n - 2) · … · 1\n",
    "for values of n greater than or equal to 1, with 0! defined to be 1. So,\n",
    "5! = 5 · 4 · 3 · 2 · 1\n",
    "which is 120. Factorials increase in size very rapidly. Write a script that inputs\n",
    "a nonnegative integer and computes and displays its factorial.\n",
    "Try your script on the integers 10, 20, 30 and even larger values.\n",
    "Did you find any integer input for which Python could not\n",
    "produce an integer factorial value?\n",
    "'''"
   ]
  },
  {
   "cell_type": "code",
   "execution_count": 1,
   "metadata": {},
   "outputs": [
    {
     "name": "stdout",
     "output_type": "stream",
     "text": [
      "Enter n: 123\n",
      "n! = 12146304367025329675766243241881295855454217088483382315328918161829235892362167668831156960612640202170735835221294047782591091570411651472186029519906261646730733907419814952960000000000000000000000000000\n"
     ]
    }
   ],
   "source": [
    "n = int(input('Enter n: '))\n",
    "\n",
    "f = 1\n",
    "for i in range(1, n + 1):\n",
    "    f *= i\n",
    "    \n",
    "print(f'n! = {f}')"
   ]
  },
  {
   "cell_type": "code",
   "execution_count": null,
   "metadata": {},
   "outputs": [],
   "source": [
    "'''\n",
    "3.14\n",
    "(Challenge: Approximating the Mathematical Constant ) Write a script that com-\n",
    "putes the value of π from the following infinite series. Print a table that shows the value of\n",
    "π approximated by one term of this series, by two terms, by three terms, and so on. How\n",
    "many terms of this series do you have to use before you first get 3.14? 3.141? 3.1415?\n",
    "3.14159?\n",
    "'''"
   ]
  },
  {
   "cell_type": "code",
   "execution_count": 14,
   "metadata": {
    "scrolled": true
   },
   "outputs": [
    {
     "name": "stdout",
     "output_type": "stream",
     "text": [
      "Steps: 1000\n",
      "3.1425916543395442\n"
     ]
    }
   ],
   "source": [
    "steps = int(input('Steps: '))\n",
    "d = 3\n",
    "pi = 4\n",
    "m = -1\n",
    "for i in range(1, steps + 1):\n",
    "    pi += m * 4 / d\n",
    "    d += 2\n",
    "    m *= -1\n",
    "    \n",
    "print(pi)"
   ]
  },
  {
   "cell_type": "code",
   "execution_count": null,
   "metadata": {},
   "outputs": [],
   "source": [
    "'''\n",
    "3.15\n",
    "(Challenge: Approximating the Mathematical Constant e) Write a script that esti-\n",
    "mates the value of the mathematical constant e by using the formula below. Your script\n",
    "can stop after summing 10 terms.\n",
    "'''"
   ]
  },
  {
   "cell_type": "code",
   "execution_count": 15,
   "metadata": {},
   "outputs": [
    {
     "name": "stdout",
     "output_type": "stream",
     "text": [
      "Steps: 10\n",
      "2.7182818011463845\n"
     ]
    }
   ],
   "source": [
    "steps = int(input('Steps: '))\n",
    "e = 1\n",
    "for i in range(1, steps + 1):\n",
    "    f = 1\n",
    "    for j in range(1, i + 1):\n",
    "        f *= j\n",
    "    e += 1 / f\n",
    "print(e)"
   ]
  },
  {
   "cell_type": "code",
   "execution_count": null,
   "metadata": {},
   "outputs": [],
   "source": [
    "'''\n",
    "3.16\n",
    "(Nested Control Statements) Use a loop to find the two largest values of 10 num-\n",
    "bers entered.\n",
    "\n",
    "'''"
   ]
  },
  {
   "cell_type": "code",
   "execution_count": 18,
   "metadata": {},
   "outputs": [
    {
     "name": "stdout",
     "output_type": "stream",
     "text": [
      "Enter number (10 remaining): 2\n",
      "Enter number (9 remaining): 3\n",
      "Enter number (8 remaining): 4\n",
      "Enter number (7 remaining): 6\n",
      "Enter number (6 remaining): 3\n",
      "Enter number (5 remaining): 5\n",
      "Enter number (4 remaining): 73\n",
      "Enter number (3 remaining): 6\n",
      "Enter number (2 remaining): 4\n",
      "Enter number (1 remaining): 3\n",
      "1st max: 73, 2nd max: 6\n"
     ]
    }
   ],
   "source": [
    "numbers = []\n",
    "for i in range(10):\n",
    "    numbers.append (int(input(f'Enter number ({10 - i} remaining): ')))\n",
    "    \n",
    "first_max = numbers[0]\n",
    "second_max = numbers[0]\n",
    "for n in numbers:\n",
    "    if n > first_max:\n",
    "        first_max = n\n",
    "    if n > second_max and n < first_max:\n",
    "        second_max = n\n",
    "print(f'1st max: {first_max}, 2nd max: {second_max}')"
   ]
  },
  {
   "cell_type": "code",
   "execution_count": null,
   "metadata": {},
   "outputs": [],
   "source": [
    "'''\n",
    "3.17\n",
    "(Nested Loops) Write a script that displays the following triangle patterns separate-\n",
    "ly, one below the other. Separate each pattern from the next by one blank line. Use for\n",
    "loops to generate the patterns. Display all asterisks (*) with a single statement of the form\n",
    "print('*', end='')\n",
    "which causes the asterisks to display side by side. [Hint: For the last two patterns, begin\n",
    "each line with zero or more space characters.]\n",
    "'''"
   ]
  },
  {
   "cell_type": "code",
   "execution_count": 45,
   "metadata": {},
   "outputs": [
    {
     "name": "stdout",
     "output_type": "stream",
     "text": [
      "*          \n",
      "**         \n",
      "***        \n",
      "****       \n",
      "*****      \n",
      "******     \n",
      "*******    \n",
      "********   \n",
      "*********  \n",
      "********** \n",
      "\n",
      "********** \n",
      "*********  \n",
      "********   \n",
      "*******    \n",
      "******     \n",
      "*****      \n",
      "****       \n",
      "***        \n",
      "**         \n",
      "*          \n",
      "\n",
      "**********\n",
      " *********\n",
      "  ********\n",
      "   *******\n",
      "    ******\n",
      "     *****\n",
      "      ****\n",
      "       ***\n",
      "        **\n",
      "         *\n",
      "\n",
      "          *\n",
      "         **\n",
      "        ***\n",
      "       ****\n",
      "      *****\n",
      "     ******\n",
      "    *******\n",
      "   ********\n",
      "  *********\n",
      " **********\n",
      "\n"
     ]
    }
   ],
   "source": [
    "for l in range(1, 11):\n",
    "    for a in range(l):\n",
    "        print('*', end='')\n",
    "    for z in range(10 - a, 0, -1):\n",
    "        print(' ', end='')\n",
    "    print('')\n",
    "print('')\n",
    "\n",
    "for l in range(10, 0, -1):\n",
    "    for a in range(l):\n",
    "        print('*', end='')\n",
    "    for z in range(10 - a, 0, -1):\n",
    "        print(' ', end='')\n",
    "    print('')\n",
    "    \n",
    "print('')\n",
    "\n",
    "for l in range(10, 0, -1):\n",
    "    for z in range(10 - l, 0, -1):\n",
    "        print(' ', end='')\n",
    "    for a in range(l):\n",
    "        print('*', end='')\n",
    "    print('')\n",
    "    \n",
    "print('')\n",
    "\n",
    "for l in range(10, 0, -1):\n",
    "    for z in range(l):\n",
    "        print(' ', end='')\n",
    "    for a in range(11 - l, 0, -1):\n",
    "        print('*', end='')\n",
    "    print('')\n",
    "    \n",
    "print('')"
   ]
  },
  {
   "cell_type": "code",
   "execution_count": null,
   "metadata": {},
   "outputs": [],
   "source": [
    "'''\n",
    "3.18\n",
    "(Challenge: Nested Looping) Modify your script from Exercise 3.17 to display all\n",
    "four patterns side-by-side (as shown above) by making clever use of nested for loops. Sep-\n",
    "arate each triangle from the next by three horizontal spaces. [Hint: One for loop should\n",
    "control the row number. Its nested for loops should calculate from the row number the\n",
    "appropriate number of asterisks and spaces for each of the four patterns.]\n",
    "'''"
   ]
  },
  {
   "cell_type": "code",
   "execution_count": 109,
   "metadata": {},
   "outputs": [
    {
     "name": "stdout",
     "output_type": "stream",
     "text": [
      "1:\t*          \t********** \t*          \t          *\n",
      "2:\t**         \t*********  \t**         \t         **\n",
      "3:\t***        \t********   \t***        \t        ***\n",
      "4:\t****       \t*******    \t****       \t       ****\n",
      "5:\t*****      \t******     \t*****      \t      *****\n",
      "6:\t******     \t*****      \t******     \t     ******\n",
      "7:\t*******    \t****       \t*******    \t    *******\n",
      "8:\t********   \t***        \t********   \t   ********\n",
      "9:\t*********  \t**         \t*********  \t  *********\n",
      "10:\t********** \t*          \t********** \t **********\n"
     ]
    }
   ],
   "source": [
    "for l in range(1, 11):\n",
    "    print(f'{l}:\\t', end='')\n",
    "    for a in range(l):\n",
    "        print('*', end='')\n",
    "    for z in range(10 - a, 0, -1):\n",
    "        print(' ', end='')\n",
    "    print('\\t', end='')\n",
    "    \n",
    "    for a in range(11 - l, 0, -1):\n",
    "        print('*', end='')\n",
    "    for z in range(l):\n",
    "        print(' ', end='')\n",
    "    print('\\t', end='')\n",
    "    \n",
    "    for z in range(l):\n",
    "        print('*', end='')\n",
    "    for a in range(11 - l, 0, -1):\n",
    "        print(' ', end='')\n",
    "    print('\\t', end='')\n",
    "    \n",
    "    for z in range(11 - l, 0, -1):\n",
    "        print(' ', end='')\n",
    "    for a in range(l):\n",
    "        print('*', end='')\n",
    "            \n",
    "    print('')"
   ]
  },
  {
   "cell_type": "code",
   "execution_count": null,
   "metadata": {},
   "outputs": [],
   "source": [
    "'''\n",
    "3.19\n",
    "(Brute-Force Computing: Pythagorean Triples) A right triangle can have sides that\n",
    "are all integers. The set of three integer values for the sides of a right triangle is called a Py-\n",
    "thagorean triple. These three sides must satisfy the relationship that the sum of the squares\n",
    "of two of the sides is equal to the square of the hypotenuse. Find all Pythagorean triples for\n",
    "side1, side2 and hypotenuse (such as 3, 4 and 5) all no larger than 20. Use a triple-nested\n",
    "for-loop that tries all possibilities. This is an example of “brute-force” computing. You’ll\n",
    "learn in more advanced computer science courses that there are many interesting problems\n",
    "for which there is no known algorithmic approach other than sheer brute force.\n",
    "\n",
    "'''"
   ]
  },
  {
   "cell_type": "code",
   "execution_count": 112,
   "metadata": {},
   "outputs": [
    {
     "name": "stdout",
     "output_type": "stream",
     "text": [
      "3, 4, 5\n",
      "4, 3, 5\n",
      "5, 12, 13\n",
      "6, 8, 10\n",
      "8, 6, 10\n",
      "8, 15, 17\n",
      "9, 12, 15\n",
      "12, 5, 13\n",
      "12, 9, 15\n",
      "15, 8, 17\n"
     ]
    }
   ],
   "source": [
    "for a in range(1, 20):\n",
    "    for b in range(1, 20):\n",
    "        for c in range(1, 20):\n",
    "            if a**2 + b**2 == c**2:\n",
    "                print(f'{a}, {b}, {c}')"
   ]
  },
  {
   "cell_type": "code",
   "execution_count": null,
   "metadata": {},
   "outputs": [],
   "source": [
    "'''\n",
    "3.20\n",
    "(Binary-to-Decimal Conversion) Input an integer containing 0s and 1s (i.e., a “bi-\n",
    "nary” integer) and display its decimal equivalent. The online appendix, “Number Systems,”\n",
    "discusses the binary number system. [Hint: Use the modulus and division operators to pick\n",
    "off the “binary” number’s digits one at a time from right to left. Just as in the decimal num-\n",
    "ber system, where the rightmost digit has the positional value 1 and the next digit to the left\n",
    "has the positional value 10, then 100, then 1000, etc., in the binary number system, the\n",
    "rightmost digit has the positional value 1, the next digit to the left has the positional value\n",
    "2, then 4, then 8, etc. Thus, the decimal number 234 can be interpreted as 2 * 100 + 3 *\n",
    "10 + 4 * 1. The decimal equivalent of binary 1101 is 1 * 8 + 1 * 4 + 0 * 2 + 1 * 1.]\n",
    "'''"
   ]
  },
  {
   "cell_type": "code",
   "execution_count": 128,
   "metadata": {},
   "outputs": [
    {
     "name": "stdout",
     "output_type": "stream",
     "text": [
      "Enter binary: 1111\n",
      "15\n"
     ]
    }
   ],
   "source": [
    "binary = input('Enter binary: ')\n",
    "\n",
    "c = 0\n",
    "result = 0\n",
    "for i in range(len(binary) - 1, -1, -1):\n",
    "    result += int(binary[i]) * 2**c\n",
    "    c += 1\n",
    "print(result)"
   ]
  },
  {
   "cell_type": "code",
   "execution_count": null,
   "metadata": {},
   "outputs": [],
   "source": [
    "'''\n",
    "3.21\n",
    "(Calculate Change Using Fewest Number of Coins) Write a script that inputs a\n",
    "purchase price of a dollar or less for an item. Assume the purchaser pays with a dollar bill.\n",
    "Determine the amount of change the cashier should give back to the purchaser. Display\n",
    "the change using the fewest number of pennies, nickels, dimes and quarters. For example,\n",
    "if the purchaser is due 73 cents in change, the script would output:\n",
    "Your change is:\n",
    "2 quarters\n",
    "2 dimes\n",
    "3 pennies\n",
    "'''"
   ]
  },
  {
   "cell_type": "code",
   "execution_count": 129,
   "metadata": {},
   "outputs": [
    {
     "name": "stdout",
     "output_type": "stream",
     "text": [
      "Enter cents: 123\n"
     ]
    }
   ],
   "source": [
    "c = int(input('Enter cents: '))\n",
    "q, d, p = 0, 0, 0\n"
   ]
  },
  {
   "cell_type": "code",
   "execution_count": null,
   "metadata": {},
   "outputs": [],
   "source": []
  }
 ],
 "metadata": {
  "kernelspec": {
   "display_name": "Python 3",
   "language": "python",
   "name": "python3"
  },
  "language_info": {
   "codemirror_mode": {
    "name": "ipython",
    "version": 3
   },
   "file_extension": ".py",
   "mimetype": "text/x-python",
   "name": "python",
   "nbconvert_exporter": "python",
   "pygments_lexer": "ipython3",
   "version": "3.8.5"
  }
 },
 "nbformat": 4,
 "nbformat_minor": 4
}
